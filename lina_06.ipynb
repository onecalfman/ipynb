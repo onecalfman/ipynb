{
 "cells": [
  {
   "cell_type": "code",
   "execution_count": 108,
   "id": "c3f0f7b9",
   "metadata": {
    "execution": {
     "iopub.execute_input": "2021-12-12T18:05:10.548000+01:00",
     "iopub.status.busy": "2021-12-12T18:05:10.547000+01:00",
     "iopub.status.idle": "2021-12-12T18:05:10.548000+01:00",
     "shell.execute_reply": "2021-12-12T18:05:10.548000+01:00"
    },
    "tags": []
   },
   "outputs": [],
   "source": [
    "using LinearAlgebra\n",
    "using AbstractAlgebra"
   ]
  },
  {
   "cell_type": "code",
   "execution_count": 2,
   "id": "9701e05b-8edc-42f0-a424-38f47c05ac7a",
   "metadata": {
    "execution": {
     "iopub.execute_input": "2021-12-12T16:02:40.642000+01:00",
     "iopub.status.busy": "2021-12-12T16:02:40.642000+01:00",
     "iopub.status.idle": "2021-12-12T16:02:41.392000+01:00",
     "shell.execute_reply": "2021-12-12T16:02:41.392000+01:00"
    }
   },
   "outputs": [
    {
     "data": {
      "text/plain": [
       "disp (generic function with 1 method)"
      ]
     },
     "execution_count": 2,
     "metadata": {},
     "output_type": "execute_result"
    }
   ],
   "source": [
    "function disp(A)\n",
    "    try\n",
    "        A = map(x -> (isinteger(x)) ? Int(x) : x, A)\n",
    "    catch\n",
    "        nothing\n",
    "    end\n",
    "    display(A)\n",
    "end"
   ]
  },
  {
   "cell_type": "code",
   "execution_count": 3,
   "id": "7dd65d91-7db4-4e32-ab6a-7a91db27de81",
   "metadata": {
    "execution": {
     "iopub.execute_input": "2021-12-12T16:02:41.393000+01:00",
     "iopub.status.busy": "2021-12-12T16:02:41.392000+01:00",
     "iopub.status.idle": "2021-12-12T16:02:41.535000+01:00",
     "shell.execute_reply": "2021-12-12T16:02:41.535000+01:00"
    }
   },
   "outputs": [
    {
     "data": {
      "text/plain": [
       "diagonalize (generic function with 1 method)"
      ]
     },
     "execution_count": 3,
     "metadata": {},
     "output_type": "execute_result"
    }
   ],
   "source": [
    "function diagonalize(A::Matrix{T}) where T<:Real\n",
    "    A = map(x -> Rational(x), A)\n",
    "    pivot = A[1]\n",
    "    for i ∈ 1:size(A)[2]\n",
    "        pivot = nothing\n",
    "        pivot_pos = 1\n",
    "        for (l, val) ∈ enumerate(A[i,:])\n",
    "            if val != 0\n",
    "                pivot = val\n",
    "                pivot_pos = l\n",
    "                break\n",
    "            end\n",
    "        end\n",
    "        if pivot == nothing\n",
    "            return map(x -> (isinteger(x)) ? Int(x) : x, A)\n",
    "        end\n",
    "        A[i,:] *= 1/pivot\n",
    "        disp(A)\n",
    "        \n",
    "        fac = []\n",
    "        for j ∈ i+1:size(A)[1] \n",
    "            push!(fac, - A[j,pivot_pos])\n",
    "            A[j,:] += - A[j,pivot_pos] .* A[i,:] \n",
    "        end\n",
    "        disp(fac)\n",
    "        disp(A)\n",
    "    end\n",
    "end"
   ]
  },
  {
   "cell_type": "markdown",
   "id": "626a0b28",
   "metadata": {},
   "source": [
    "## 6.1 Lösungen von Gleichungssystemen"
   ]
  },
  {
   "cell_type": "code",
   "execution_count": 4,
   "id": "19065008",
   "metadata": {
    "execution": {
     "iopub.execute_input": "2021-12-12T16:02:41.535000+01:00",
     "iopub.status.busy": "2021-12-12T16:02:41.535000+01:00",
     "iopub.status.idle": "2021-12-12T16:02:42.874000+01:00",
     "shell.execute_reply": "2021-12-12T16:02:42.873000+01:00"
    }
   },
   "outputs": [
    {
     "data": {
      "text/plain": [
       "5×5 Matrix{Int64}:\n",
       "  2   -4   2  -2   2\n",
       "  1   -2  -1   1  -3\n",
       " -3    6   2  -3   7\n",
       "  1   -2   1   1   1\n",
       "  6  -12  -1   0  -8"
      ]
     },
     "execution_count": 4,
     "metadata": {},
     "output_type": "execute_result"
    }
   ],
   "source": [
    "A = [\n",
    "    2  -4  2 -2  2\n",
    "    1  -2 -1  1 -3\n",
    "    -3  6  2 -3  7\n",
    "    1  -2  1  1  1\n",
    "    6  -12 -1 0 -8\n",
    "]"
   ]
  },
  {
   "cell_type": "code",
   "execution_count": 5,
   "id": "697714c0",
   "metadata": {
    "execution": {
     "iopub.execute_input": "2021-12-12T16:02:42.874000+01:00",
     "iopub.status.busy": "2021-12-12T16:02:42.874000+01:00",
     "iopub.status.idle": "2021-12-12T16:02:42.886000+01:00",
     "shell.execute_reply": "2021-12-12T16:02:42.886000+01:00"
    }
   },
   "outputs": [],
   "source": [
    "b = [-2; 2; -4; -2; 5];\n",
    "c = [-4; -2; 6; -2; -12];"
   ]
  },
  {
   "cell_type": "markdown",
   "id": "58aed678",
   "metadata": {},
   "source": [
    "### a)\n",
    "Bestimmen Sie eine Basis von $\\operatorname{Ker} A = \\operatorname{Ker} \\mu_A$"
   ]
  },
  {
   "cell_type": "code",
   "execution_count": 6,
   "id": "5163f4e5-8a0a-4b85-ac43-d114083bd18a",
   "metadata": {
    "execution": {
     "iopub.execute_input": "2021-12-12T16:02:42.886000+01:00",
     "iopub.status.busy": "2021-12-12T16:02:42.886000+01:00",
     "iopub.status.idle": "2021-12-12T16:02:45.791000+01:00",
     "shell.execute_reply": "2021-12-12T16:02:45.791000+01:00"
    },
    "tags": []
   },
   "outputs": [
    {
     "data": {
      "text/plain": [
       "5×7 Matrix{Int64}:\n",
       "  1   -2   1  -1   1  -1   -2\n",
       "  1   -2  -1   1  -3   2   -2\n",
       " -3    6   2  -3   7  -4    6\n",
       "  1   -2   1   1   1  -2   -2\n",
       "  6  -12  -1   0  -8   5  -12"
      ]
     },
     "metadata": {},
     "output_type": "display_data"
    },
    {
     "data": {
      "text/plain": [
       "4-element Vector{Int64}:\n",
       " -1\n",
       "  3\n",
       " -1\n",
       " -6"
      ]
     },
     "metadata": {},
     "output_type": "display_data"
    },
    {
     "data": {
      "text/plain": [
       "5×7 Matrix{Int64}:\n",
       " 1  -2   1  -1    1  -1  -2\n",
       " 0   0  -2   2   -4   3   0\n",
       " 0   0   5  -6   10  -7   0\n",
       " 0   0   0   2    0  -1   0\n",
       " 0   0  -7   6  -14  11   0"
      ]
     },
     "metadata": {},
     "output_type": "display_data"
    },
    {
     "data": {
      "text/plain": [
       "5×7 Matrix{Real}:\n",
       " 1  -2   1  -1    1   -1    -2\n",
       " 0   0   1  -1    2  -3//2   0\n",
       " 0   0   5  -6   10   -7     0\n",
       " 0   0   0   2    0   -1     0\n",
       " 0   0  -7   6  -14   11     0"
      ]
     },
     "metadata": {},
     "output_type": "display_data"
    },
    {
     "data": {
      "text/plain": [
       "3-element Vector{Int64}:\n",
       " -5\n",
       "  0\n",
       "  7"
      ]
     },
     "metadata": {},
     "output_type": "display_data"
    },
    {
     "data": {
      "text/plain": [
       "5×7 Matrix{Real}:\n",
       " 1  -2  1  -1  1   -1    -2\n",
       " 0   0  1  -1  2  -3//2   0\n",
       " 0   0  0  -1  0   1//2   0\n",
       " 0   0  0   2  0   -1     0\n",
       " 0   0  0  -1  0   1//2   0"
      ]
     },
     "metadata": {},
     "output_type": "display_data"
    },
    {
     "data": {
      "text/plain": [
       "5×7 Matrix{Real}:\n",
       " 1  -2  1  -1  1   -1    -2\n",
       " 0   0  1  -1  2  -3//2   0\n",
       " 0   0  0   1  0  -1//2   0\n",
       " 0   0  0   2  0   -1     0\n",
       " 0   0  0  -1  0   1//2   0"
      ]
     },
     "metadata": {},
     "output_type": "display_data"
    },
    {
     "data": {
      "text/plain": [
       "2-element Vector{Int64}:\n",
       " -2\n",
       "  1"
      ]
     },
     "metadata": {},
     "output_type": "display_data"
    },
    {
     "data": {
      "text/plain": [
       "5×7 Matrix{Real}:\n",
       " 1  -2  1  -1  1   -1    -2\n",
       " 0   0  1  -1  2  -3//2   0\n",
       " 0   0  0   1  0  -1//2   0\n",
       " 0   0  0   0  0    0     0\n",
       " 0   0  0   0  0    0     0"
      ]
     },
     "metadata": {},
     "output_type": "display_data"
    },
    {
     "data": {
      "text/plain": [
       "5×7 Matrix{Real}:\n",
       " 1  -2  1  -1  1   -1    -2\n",
       " 0   0  1  -1  2  -3//2   0\n",
       " 0   0  0   1  0  -1//2   0\n",
       " 0   0  0   0  0    0     0\n",
       " 0   0  0   0  0    0     0"
      ]
     },
     "execution_count": 6,
     "metadata": {},
     "output_type": "execute_result"
    }
   ],
   "source": [
    "diagonalize([A b c])"
   ]
  },
  {
   "cell_type": "markdown",
   "id": "758d74e6-3efb-4f9d-a14e-bd268fffcf91",
   "metadata": {},
   "source": [
    "### b)\n",
    "Bestimmen Sie die Lösungsmenge $\\operatorname{Sol}(A, \\vec{b})$  des Gleichungssystems $A \\vec{x}=\\vec{b}$.\n"
   ]
  },
  {
   "cell_type": "markdown",
   "id": "4ef27bf5-2411-4f68-9ba9-d1f538f69c31",
   "metadata": {},
   "source": [
    "### c)\n",
    "Bestimmen Sie die Lösungsmenge $\\operatorname{Sol}(A, \\vec{c})$  des Gleichungssystems $A \\vec{x}=\\vec{c}$.\n"
   ]
  },
  {
   "cell_type": "code",
   "execution_count": null,
   "id": "b6a901b9-4294-49c8-b429-a110cee88be1",
   "metadata": {
    "tags": []
   },
   "outputs": [],
   "source": []
  },
  {
   "cell_type": "markdown",
   "id": "5c2f3465-6b5f-4047-bc8f-2c661c84f5e6",
   "metadata": {
    "tags": []
   },
   "source": [
    "## 6.2 Basen"
   ]
  },
  {
   "cell_type": "code",
   "execution_count": 57,
   "id": "3aa94e51",
   "metadata": {
    "execution": {
     "iopub.execute_input": "2021-12-12T17:36:38.693000+01:00",
     "iopub.status.busy": "2021-12-12T17:36:38.693000+01:00",
     "iopub.status.idle": "2021-12-12T17:36:38.697000+01:00",
     "shell.execute_reply": "2021-12-12T17:36:38.697000+01:00"
    },
    "tags": []
   },
   "outputs": [
    {
     "data": {
      "text/plain": [
       "3"
      ]
     },
     "execution_count": 57,
     "metadata": {},
     "output_type": "execute_result"
    }
   ],
   "source": [
    "U = [\n",
    "    2 -1  1 -1\n",
    "    0  0  2  1 \n",
    "    3  4 -1  0\n",
    "   -1  4  1  3\n",
    "    1  8  1  4\n",
    "]\n",
    "\n",
    "rank(U)"
   ]
  },
  {
   "cell_type": "code",
   "execution_count": 58,
   "id": "52010ad9-c4ad-481e-b060-37d8bf461ccf",
   "metadata": {
    "execution": {
     "iopub.execute_input": "2021-12-12T17:36:39.055000+01:00",
     "iopub.status.busy": "2021-12-12T17:36:39.055000+01:00",
     "iopub.status.idle": "2021-12-12T17:36:39.058000+01:00",
     "shell.execute_reply": "2021-12-12T17:36:39.057000+01:00"
    },
    "tags": []
   },
   "outputs": [
    {
     "data": {
      "text/plain": [
       "2"
      ]
     },
     "execution_count": 58,
     "metadata": {},
     "output_type": "execute_result"
    }
   ],
   "source": [
    "V = [\n",
    "     3  1  0\n",
    "    -3  3  6\n",
    "     5  1 -1\n",
    "     3 -5 -9\n",
    "    -1  3  5\n",
    "]\n",
    "\n",
    "rank(V)"
   ]
  },
  {
   "cell_type": "code",
   "execution_count": 48,
   "id": "3f680865-ee56-43f7-a795-cd0da51e842b",
   "metadata": {
    "execution": {
     "iopub.execute_input": "2021-12-12T17:07:26.093000+01:00",
     "iopub.status.busy": "2021-12-12T17:07:26.092000+01:00",
     "iopub.status.idle": "2021-12-12T17:07:26.171000+01:00",
     "shell.execute_reply": "2021-12-12T17:07:26.171000+01:00"
    },
    "tags": []
   },
   "outputs": [
    {
     "data": {
      "text/plain": [
       "5-element Vector{Int64}:\n",
       "  0\n",
       "  6\n",
       " -1\n",
       " -9\n",
       "  5"
      ]
     },
     "execution_count": 48,
     "metadata": {},
     "output_type": "execute_result"
    }
   ],
   "source": []
  },
  {
   "cell_type": "markdown",
   "id": "a406c21c-6a89-48b3-b09b-6002d699bedb",
   "metadata": {},
   "source": [
    "### a)"
   ]
  },
  {
   "cell_type": "code",
   "execution_count": 61,
   "id": "f422825b-ed41-479a-8a54-d4d3c6e0a5b0",
   "metadata": {
    "execution": {
     "iopub.execute_input": "2021-12-12T17:37:21.108000+01:00",
     "iopub.status.busy": "2021-12-12T17:37:21.108000+01:00",
     "iopub.status.idle": "2021-12-12T17:37:21.127000+01:00",
     "shell.execute_reply": "2021-12-12T17:37:21.127000+01:00"
    },
    "tags": []
   },
   "outputs": [
    {
     "data": {
      "text/plain": [
       "4×5 Matrix{Int64}:\n",
       "  1  2  -1   1  1\n",
       " -1  0   4   4  8\n",
       "  2  0   3  -1  1\n",
       " -1  1   0   3  4"
      ]
     },
     "metadata": {},
     "output_type": "display_data"
    },
    {
     "data": {
      "text/plain": [
       "3-element Vector{Int64}:\n",
       "  1\n",
       " -2\n",
       "  1"
      ]
     },
     "metadata": {},
     "output_type": "display_data"
    },
    {
     "data": {
      "text/plain": [
       "4×5 Matrix{Int64}:\n",
       " 1   2  -1   1   1\n",
       " 0   2   3   5   9\n",
       " 0  -4   5  -3  -1\n",
       " 0   3  -1   4   5"
      ]
     },
     "metadata": {},
     "output_type": "display_data"
    },
    {
     "data": {
      "text/plain": [
       "4×5 Matrix{Real}:\n",
       " 1   2  -1     1     1\n",
       " 0   1  3//2  5//2  9//2\n",
       " 0  -4   5    -3    -1\n",
       " 0   3  -1     4     5"
      ]
     },
     "metadata": {},
     "output_type": "display_data"
    },
    {
     "data": {
      "text/plain": [
       "2-element Vector{Int64}:\n",
       "  4\n",
       " -3"
      ]
     },
     "metadata": {},
     "output_type": "display_data"
    },
    {
     "data": {
      "text/plain": [
       "4×5 Matrix{Real}:\n",
       " 1  2    -1      1       1\n",
       " 0  1    3//2   5//2    9//2\n",
       " 0  0    11      7      17\n",
       " 0  0  -11//2  -7//2  -17//2"
      ]
     },
     "metadata": {},
     "output_type": "display_data"
    },
    {
     "data": {
      "text/plain": [
       "4×5 Matrix{Real}:\n",
       " 1  2    -1      1        1\n",
       " 0  1    3//2   5//2     9//2\n",
       " 0  0     1     7//11   17//11\n",
       " 0  0  -11//2  -7//2   -17//2"
      ]
     },
     "metadata": {},
     "output_type": "display_data"
    },
    {
     "data": {
      "text/plain": [
       "1-element Vector{Rational{Int64}}:\n",
       " 11//2"
      ]
     },
     "metadata": {},
     "output_type": "display_data"
    },
    {
     "data": {
      "text/plain": [
       "4×5 Matrix{Real}:\n",
       " 1  2  -1     1       1\n",
       " 0  1  3//2  5//2    9//2\n",
       " 0  0   1    7//11  17//11\n",
       " 0  0   0     0       0"
      ]
     },
     "metadata": {},
     "output_type": "display_data"
    },
    {
     "data": {
      "text/plain": [
       "4×5 Matrix{Real}:\n",
       " 1  2  -1     1       1\n",
       " 0  1  3//2  5//2    9//2\n",
       " 0  0   1    7//11  17//11\n",
       " 0  0   0     0       0"
      ]
     },
     "execution_count": 61,
     "metadata": {},
     "output_type": "execute_result"
    }
   ],
   "source": [
    "Ut = transpose(copy(U))\n",
    "Ut[1,:], Ut[3,:] = Ut[3,:], Ut[1,:] \n",
    "diagU = diagonalize(Matrix(Ut))"
   ]
  },
  {
   "cell_type": "code",
   "execution_count": 62,
   "id": "10fc16ee-92d5-4900-9d9b-bc22e2d3b479",
   "metadata": {
    "execution": {
     "iopub.execute_input": "2021-12-12T17:37:21.364000+01:00",
     "iopub.status.busy": "2021-12-12T17:37:21.364000+01:00",
     "iopub.status.idle": "2021-12-12T17:37:21.367000+01:00",
     "shell.execute_reply": "2021-12-12T17:37:21.367000+01:00"
    },
    "tags": []
   },
   "outputs": [
    {
     "data": {
      "text/plain": [
       "4×5 Matrix{Real}:\n",
       " 1  2  -1  1   1\n",
       " 0  2   3  5   9\n",
       " 0  0  11  7  17\n",
       " 0  0   0  0   0"
      ]
     },
     "execution_count": 62,
     "metadata": {},
     "output_type": "execute_result"
    }
   ],
   "source": [
    "diagU[2,:] = Int.(diagU[2,:] * 2)\n",
    "diagU[3,:] = Int.(diagU[3,:] * 11)\n",
    "diagU"
   ]
  },
  {
   "cell_type": "code",
   "execution_count": null,
   "id": "0a7817d6-8aac-4982-9132-d167ebba07f5",
   "metadata": {},
   "outputs": [],
   "source": []
  },
  {
   "cell_type": "markdown",
   "id": "0d30706d-6bb6-4de0-b68a-dea61cfc505f",
   "metadata": {},
   "source": [
    "### b)"
   ]
  },
  {
   "cell_type": "code",
   "execution_count": 63,
   "id": "cbcc7c9f-ce3b-48a3-8cea-9c2df61fd33e",
   "metadata": {
    "execution": {
     "iopub.execute_input": "2021-12-12T17:37:24.757000+01:00",
     "iopub.status.busy": "2021-12-12T17:37:24.756000+01:00",
     "iopub.status.idle": "2021-12-12T17:37:24.772000+01:00",
     "shell.execute_reply": "2021-12-12T17:37:24.772000+01:00"
    },
    "tags": []
   },
   "outputs": [
    {
     "data": {
      "text/plain": [
       "3×5 Matrix{Int64}:\n",
       " 1   3   1  -5   3\n",
       " 3  -3   5   3  -1\n",
       " 0   6  -1  -9   5"
      ]
     },
     "metadata": {},
     "output_type": "display_data"
    },
    {
     "data": {
      "text/plain": [
       "2-element Vector{Int64}:\n",
       " -3\n",
       "  0"
      ]
     },
     "metadata": {},
     "output_type": "display_data"
    },
    {
     "data": {
      "text/plain": [
       "3×5 Matrix{Int64}:\n",
       " 1    3   1  -5    3\n",
       " 0  -12   2  18  -10\n",
       " 0    6  -1  -9    5"
      ]
     },
     "metadata": {},
     "output_type": "display_data"
    },
    {
     "data": {
      "text/plain": [
       "3×5 Matrix{Real}:\n",
       " 1  3    1     -5     3\n",
       " 0  1  -1//6  -3//2  5//6\n",
       " 0  6   -1     -9     5"
      ]
     },
     "metadata": {},
     "output_type": "display_data"
    },
    {
     "data": {
      "text/plain": [
       "1-element Vector{Int64}:\n",
       " -6"
      ]
     },
     "metadata": {},
     "output_type": "display_data"
    },
    {
     "data": {
      "text/plain": [
       "3×5 Matrix{Real}:\n",
       " 1  3    1     -5     3\n",
       " 0  1  -1//6  -3//2  5//6\n",
       " 0  0    0      0     0"
      ]
     },
     "metadata": {},
     "output_type": "display_data"
    },
    {
     "data": {
      "text/plain": [
       "3×5 Matrix{Real}:\n",
       " 1  3    1     -5     3\n",
       " 0  1  -1//6  -3//2  5//6\n",
       " 0  0    0      0     0"
      ]
     },
     "execution_count": 63,
     "metadata": {},
     "output_type": "execute_result"
    }
   ],
   "source": [
    "Vt = transpose(copy(V))\n",
    "Vt[1,:], Vt[2,:] = Vt[2,:], Vt[1,:] \n",
    "diagV = diagonalize(Matrix(Vt))"
   ]
  },
  {
   "cell_type": "code",
   "execution_count": 64,
   "id": "37e2c17a-72bf-407a-a839-ca1e815d522c",
   "metadata": {
    "execution": {
     "iopub.execute_input": "2021-12-12T17:37:49.997000+01:00",
     "iopub.status.busy": "2021-12-12T17:37:49.997000+01:00",
     "iopub.status.idle": "2021-12-12T17:37:50.001000+01:00",
     "shell.execute_reply": "2021-12-12T17:37:50.001000+01:00"
    }
   },
   "outputs": [
    {
     "data": {
      "text/plain": [
       "3×5 Matrix{Real}:\n",
       " 1  3   1  -5  3\n",
       " 0  6  -1  -9  5\n",
       " 0  0   0   0  0"
      ]
     },
     "execution_count": 64,
     "metadata": {},
     "output_type": "execute_result"
    }
   ],
   "source": [
    "diagV[2,:] = Int.(diagV[2,:] * 6)\n",
    "diagV"
   ]
  },
  {
   "cell_type": "markdown",
   "id": "3088912d-60eb-4c3a-b66b-b427b0d269a0",
   "metadata": {
    "execution": {
     "iopub.execute_input": "2021-12-12T15:46:47.463000+01:00",
     "iopub.status.busy": "2021-12-12T15:46:47.462000+01:00",
     "iopub.status.idle": "2021-12-12T15:46:47.464000+01:00",
     "shell.execute_reply": "2021-12-12T15:46:47.464000+01:00"
    },
    "tags": []
   },
   "source": [
    "### c)"
   ]
  },
  {
   "cell_type": "code",
   "execution_count": 11,
   "id": "74536914-7cf4-4bcc-8973-4965ce1737d1",
   "metadata": {
    "execution": {
     "iopub.execute_input": "2021-12-12T16:02:46.828000+01:00",
     "iopub.status.busy": "2021-12-12T16:02:46.828000+01:00",
     "iopub.status.idle": "2021-12-12T16:02:47.177000+01:00",
     "shell.execute_reply": "2021-12-12T16:02:47.176000+01:00"
    },
    "tags": []
   },
   "outputs": [
    {
     "data": {
      "text/plain": [
       "5×5 Matrix{Real}:\n",
       " 1  2   -1      1       1\n",
       " 0  1   3//2   5//2    9//2\n",
       " 0  0    1     7//11  17//11\n",
       " 1  3    1     -5       3\n",
       " 0  1  -1//6  -3//2    5//6"
      ]
     },
     "execution_count": 11,
     "metadata": {},
     "output_type": "execute_result"
    }
   ],
   "source": [
    "u_plus_v = [transpose(diagU) transpose(diagV)][:,[1,2,3,5,6]] |> transpose |> Matrix"
   ]
  },
  {
   "cell_type": "code",
   "execution_count": 12,
   "id": "eb62b0c3-b300-4e0f-bfe3-c156f5b91fac",
   "metadata": {
    "execution": {
     "iopub.execute_input": "2021-12-12T16:02:47.177000+01:00",
     "iopub.status.busy": "2021-12-12T16:02:47.177000+01:00",
     "iopub.status.idle": "2021-12-12T16:02:47.522000+01:00",
     "shell.execute_reply": "2021-12-12T16:02:47.522000+01:00"
    },
    "tags": []
   },
   "outputs": [
    {
     "data": {
      "text/plain": [
       "5×5 Matrix{Real}:\n",
       " 1  2   -1      1       1\n",
       " 0  1   3//2   5//2    9//2\n",
       " 0  0    1     7//11  17//11\n",
       " 1  3    1     -5       3\n",
       " 0  1  -1//6  -3//2    5//6"
      ]
     },
     "metadata": {},
     "output_type": "display_data"
    },
    {
     "data": {
      "text/plain": [
       "4-element Vector{Int64}:\n",
       "  0\n",
       "  0\n",
       " -1\n",
       "  0"
      ]
     },
     "metadata": {},
     "output_type": "display_data"
    },
    {
     "data": {
      "text/plain": [
       "5×5 Matrix{Real}:\n",
       " 1  2   -1      1       1\n",
       " 0  1   3//2   5//2    9//2\n",
       " 0  0    1     7//11  17//11\n",
       " 0  1    2     -6       2\n",
       " 0  1  -1//6  -3//2    5//6"
      ]
     },
     "metadata": {},
     "output_type": "display_data"
    },
    {
     "data": {
      "text/plain": [
       "5×5 Matrix{Real}:\n",
       " 1  2   -1      1       1\n",
       " 0  1   3//2   5//2    9//2\n",
       " 0  0    1     7//11  17//11\n",
       " 0  1    2     -6       2\n",
       " 0  1  -1//6  -3//2    5//6"
      ]
     },
     "metadata": {},
     "output_type": "display_data"
    },
    {
     "data": {
      "text/plain": [
       "3-element Vector{Int64}:\n",
       "  0\n",
       " -1\n",
       " -1"
      ]
     },
     "metadata": {},
     "output_type": "display_data"
    },
    {
     "data": {
      "text/plain": [
       "5×5 Matrix{Real}:\n",
       " 1  2   -1       1        1\n",
       " 0  1   3//2    5//2     9//2\n",
       " 0  0    1      7//11   17//11\n",
       " 0  0   1//2  -17//2    -5//2\n",
       " 0  0  -5//3    -4     -11//3"
      ]
     },
     "metadata": {},
     "output_type": "display_data"
    },
    {
     "data": {
      "text/plain": [
       "5×5 Matrix{Real}:\n",
       " 1  2   -1       1        1\n",
       " 0  1   3//2    5//2     9//2\n",
       " 0  0    1      7//11   17//11\n",
       " 0  0   1//2  -17//2    -5//2\n",
       " 0  0  -5//3    -4     -11//3"
      ]
     },
     "metadata": {},
     "output_type": "display_data"
    },
    {
     "data": {
      "text/plain": [
       "2-element Vector{Rational{Int64}}:\n",
       " -1//2\n",
       "  5//3"
      ]
     },
     "metadata": {},
     "output_type": "display_data"
    },
    {
     "data": {
      "text/plain": [
       "5×5 Matrix{Real}:\n",
       " 1  2  -1       1        1\n",
       " 0  1  3//2    5//2     9//2\n",
       " 0  0   1      7//11   17//11\n",
       " 0  0   0    -97//11  -36//11\n",
       " 0  0   0    -97//33  -12//11"
      ]
     },
     "metadata": {},
     "output_type": "display_data"
    },
    {
     "data": {
      "text/plain": [
       "5×5 Matrix{Real}:\n",
       " 1  2  -1       1        1\n",
       " 0  1  3//2    5//2     9//2\n",
       " 0  0   1      7//11   17//11\n",
       " 0  0   0       1      36//97\n",
       " 0  0   0    -97//33  -12//11"
      ]
     },
     "metadata": {},
     "output_type": "display_data"
    },
    {
     "data": {
      "text/plain": [
       "1-element Vector{Rational{Int64}}:\n",
       " 97//33"
      ]
     },
     "metadata": {},
     "output_type": "display_data"
    },
    {
     "data": {
      "text/plain": [
       "5×5 Matrix{Real}:\n",
       " 1  2  -1     1       1\n",
       " 0  1  3//2  5//2    9//2\n",
       " 0  0   1    7//11  17//11\n",
       " 0  0   0     1     36//97\n",
       " 0  0   0     0       0"
      ]
     },
     "metadata": {},
     "output_type": "display_data"
    },
    {
     "data": {
      "text/plain": [
       "5×5 Matrix{Real}:\n",
       " 1  2  -1     1       1\n",
       " 0  1  3//2  5//2    9//2\n",
       " 0  0   1    7//11  17//11\n",
       " 0  0   0     1     36//97\n",
       " 0  0   0     0       0"
      ]
     },
     "execution_count": 12,
     "metadata": {},
     "output_type": "execute_result"
    }
   ],
   "source": [
    "diagonalize(u_plus_v)"
   ]
  },
  {
   "cell_type": "markdown",
   "id": "04cf4309-df8b-4001-8488-75b523b8bb49",
   "metadata": {
    "tags": []
   },
   "source": [
    "### d)"
   ]
  },
  {
   "cell_type": "code",
   "execution_count": 109,
   "id": "34bbda08",
   "metadata": {
    "execution": {
     "iopub.execute_input": "2021-12-12T18:05:25.813000+01:00",
     "iopub.status.busy": "2021-12-12T18:05:25.813000+01:00",
     "iopub.status.idle": "2021-12-12T18:05:25.818000+01:00",
     "shell.execute_reply": "2021-12-12T18:05:25.818000+01:00"
    },
    "tags": []
   },
   "outputs": [
    {
     "data": {
      "text/plain": [
       "5×5 Matrix{Real}:\n",
       "  1  0   0   1   0\n",
       "  2  2   0   3   6\n",
       " -1  3  11   1  -1\n",
       "  1  5   7  -5  -9\n",
       "  1  9  17   3   5"
      ]
     },
     "execution_count": 109,
     "metadata": {},
     "output_type": "execute_result"
    }
   ],
   "source": [
    "UV = [transpose(diagU[1:3,:]) transpose(diagV[1:2,:])]"
   ]
  },
  {
   "cell_type": "code",
   "execution_count": 103,
   "id": "27943b09",
   "metadata": {
    "execution": {
     "iopub.execute_input": "2021-12-12T17:52:16.786000+01:00",
     "iopub.status.busy": "2021-12-12T17:52:16.785000+01:00",
     "iopub.status.idle": "2021-12-12T17:52:16.835000+01:00",
     "shell.execute_reply": "2021-12-12T17:52:16.835000+01:00"
    },
    "tags": []
   },
   "outputs": [
    {
     "data": {
      "text/plain": [
       "5×5 Matrix{Int64}:\n",
       "  1  0   0   1   0\n",
       "  2  2   0   3   6\n",
       " -1  3  11   1  -1\n",
       "  1  5   7  -5  -9\n",
       "  1  9  17   3   5"
      ]
     },
     "metadata": {},
     "output_type": "display_data"
    },
    {
     "data": {
      "text/plain": [
       "4-element Vector{Int64}:\n",
       " -2\n",
       "  1\n",
       " -1\n",
       " -1"
      ]
     },
     "metadata": {},
     "output_type": "display_data"
    },
    {
     "data": {
      "text/plain": [
       "5×5 Matrix{Int64}:\n",
       " 1  0   0   1   0\n",
       " 0  2   0   1   6\n",
       " 0  3  11   2  -1\n",
       " 0  5   7  -6  -9\n",
       " 0  9  17   2   5"
      ]
     },
     "metadata": {},
     "output_type": "display_data"
    },
    {
     "data": {
      "text/plain": [
       "5×5 Matrix{Real}:\n",
       " 1  0   0   1     0\n",
       " 0  1   0  1//2   3\n",
       " 0  3  11   2    -1\n",
       " 0  5   7  -6    -9\n",
       " 0  9  17   2     5"
      ]
     },
     "metadata": {},
     "output_type": "display_data"
    },
    {
     "data": {
      "text/plain": [
       "3-element Vector{Int64}:\n",
       " -3\n",
       " -5\n",
       " -9"
      ]
     },
     "metadata": {},
     "output_type": "display_data"
    },
    {
     "data": {
      "text/plain": [
       "5×5 Matrix{Real}:\n",
       " 1  0   0     1      0\n",
       " 0  1   0    1//2    3\n",
       " 0  0  11    1//2  -10\n",
       " 0  0   7  -17//2  -24\n",
       " 0  0  17   -5//2  -22"
      ]
     },
     "metadata": {},
     "output_type": "display_data"
    },
    {
     "data": {
      "text/plain": [
       "5×5 Matrix{Real}:\n",
       " 1  0   0     1        0\n",
       " 0  1   0    1//2      3\n",
       " 0  0   1    1//22  -10//11\n",
       " 0  0   7  -17//2    -24\n",
       " 0  0  17   -5//2    -22"
      ]
     },
     "metadata": {},
     "output_type": "display_data"
    },
    {
     "data": {
      "text/plain": [
       "2-element Vector{Int64}:\n",
       "  -7\n",
       " -17"
      ]
     },
     "metadata": {},
     "output_type": "display_data"
    },
    {
     "data": {
      "text/plain": [
       "5×5 Matrix{Real}:\n",
       " 1  0  0     1         0\n",
       " 0  1  0    1//2       3\n",
       " 0  0  1    1//22   -10//11\n",
       " 0  0  0  -97//11  -194//11\n",
       " 0  0  0  -36//11   -72//11"
      ]
     },
     "metadata": {},
     "output_type": "display_data"
    },
    {
     "data": {
      "text/plain": [
       "5×5 Matrix{Real}:\n",
       " 1  0  0     1        0\n",
       " 0  1  0    1//2      3\n",
       " 0  0  1    1//22  -10//11\n",
       " 0  0  0     1        2\n",
       " 0  0  0  -36//11  -72//11"
      ]
     },
     "metadata": {},
     "output_type": "display_data"
    },
    {
     "data": {
      "text/plain": [
       "1-element Vector{Rational{Int64}}:\n",
       " 36//11"
      ]
     },
     "metadata": {},
     "output_type": "display_data"
    },
    {
     "data": {
      "text/plain": [
       "5×5 Matrix{Real}:\n",
       " 1  0  0   1        0\n",
       " 0  1  0  1//2      3\n",
       " 0  0  1  1//22  -10//11\n",
       " 0  0  0   1        2\n",
       " 0  0  0   0        0"
      ]
     },
     "metadata": {},
     "output_type": "display_data"
    },
    {
     "data": {
      "text/plain": [
       "5×5 Matrix{Real}:\n",
       " 1  0  0   1        0\n",
       " 0  1  0  1//2      3\n",
       " 0  0  1  1//22  -10//11\n",
       " 0  0  0   1        2\n",
       " 0  0  0   0        0"
      ]
     },
     "execution_count": 103,
     "metadata": {},
     "output_type": "execute_result"
    }
   ],
   "source": [
    "UVdiag = diagonalize(copy(UV))"
   ]
  },
  {
   "cell_type": "code",
   "execution_count": 107,
   "id": "43ad7ed8",
   "metadata": {
    "execution": {
     "iopub.execute_input": "2021-12-12T17:53:44.864000+01:00",
     "iopub.status.busy": "2021-12-12T17:53:44.864000+01:00",
     "iopub.status.idle": "2021-12-12T17:53:44.868000+01:00",
     "shell.execute_reply": "2021-12-12T17:53:44.868000+01:00"
    },
    "tags": []
   },
   "outputs": [
    {
     "data": {
      "text/plain": [
       "5×5 Matrix{Real}:\n",
       " 1  0  0   1        0\n",
       " 0  1  0  1//2      3\n",
       " 0  0  1  1//22  -10//11\n",
       " 0  0  0   1        2\n",
       " 0  0  0   0        0"
      ]
     },
     "execution_count": 107,
     "metadata": {},
     "output_type": "execute_result"
    }
   ],
   "source": [
    "UVdiag"
   ]
  },
  {
   "cell_type": "code",
   "execution_count": null,
   "id": "8944d18a",
   "metadata": {
    "tags": []
   },
   "outputs": [],
   "source": []
  },
  {
   "cell_type": "markdown",
   "id": "fe3200c1-b3f0-4332-900d-a09f13ce050e",
   "metadata": {
    "execution": {
     "iopub.execute_input": "2021-12-12T17:48:28.615000+01:00",
     "iopub.status.busy": "2021-12-12T17:48:28.615000+01:00",
     "iopub.status.idle": "2021-12-12T17:48:28.872000+01:00",
     "shell.execute_reply": "2021-12-12T17:48:28.872000+01:00"
    },
    "tags": []
   },
   "source": [
    "### e)"
   ]
  },
  {
   "cell_type": "code",
   "execution_count": 119,
   "id": "16e99710",
   "metadata": {
    "execution": {
     "iopub.execute_input": "2021-12-12T18:14:13.787000+01:00",
     "iopub.status.busy": "2021-12-12T18:14:13.787000+01:00",
     "iopub.status.idle": "2021-12-12T18:14:13.792000+01:00",
     "shell.execute_reply": "2021-12-12T18:14:13.791000+01:00"
    },
    "tags": []
   },
   "outputs": [
    {
     "data": {
      "text/plain": [
       "3×5 Matrix{Real}:\n",
       " 1  2  -1  1   1\n",
       " 0  2   3  5   9\n",
       " 0  0  11  7  17"
      ]
     },
     "execution_count": 119,
     "metadata": {},
     "output_type": "execute_result"
    }
   ],
   "source": [
    "BU = diagU[1:3,:]"
   ]
  },
  {
   "cell_type": "code",
   "execution_count": 120,
   "id": "a02d3a70-7fcf-4517-a23e-6d6b990ef3ef",
   "metadata": {
    "execution": {
     "iopub.execute_input": "2021-12-12T18:14:22.164000+01:00",
     "iopub.status.busy": "2021-12-12T18:14:22.164000+01:00",
     "iopub.status.idle": "2021-12-12T18:14:23.169000+01:00",
     "shell.execute_reply": "2021-12-12T18:14:23.169000+01:00"
    },
    "tags": []
   },
   "outputs": [
    {
     "data": {
      "text/plain": [
       "3×5 Matrix{Int64}:\n",
       " 1  2  -1  1   1\n",
       " 0  2   3  5   9\n",
       " 0  0  11  7  17"
      ]
     },
     "metadata": {},
     "output_type": "display_data"
    },
    {
     "data": {
      "text/plain": [
       "2-element Vector{Int64}:\n",
       " 0\n",
       " 0"
      ]
     },
     "metadata": {},
     "output_type": "display_data"
    },
    {
     "data": {
      "text/plain": [
       "3×5 Matrix{Int64}:\n",
       " 1  2  -1  1   1\n",
       " 0  2   3  5   9\n",
       " 0  0  11  7  17"
      ]
     },
     "metadata": {},
     "output_type": "display_data"
    },
    {
     "data": {
      "text/plain": [
       "3×5 Matrix{Real}:\n",
       " 1  2  -1     1     1\n",
       " 0  1  3//2  5//2  9//2\n",
       " 0  0  11     7    17"
      ]
     },
     "metadata": {},
     "output_type": "display_data"
    },
    {
     "data": {
      "text/plain": [
       "1-element Vector{Int64}:\n",
       " 0"
      ]
     },
     "metadata": {},
     "output_type": "display_data"
    },
    {
     "data": {
      "text/plain": [
       "3×5 Matrix{Real}:\n",
       " 1  2  -1     1     1\n",
       " 0  1  3//2  5//2  9//2\n",
       " 0  0  11     7    17"
      ]
     },
     "metadata": {},
     "output_type": "display_data"
    },
    {
     "data": {
      "text/plain": [
       "3×5 Matrix{Real}:\n",
       " 1  2  -1     1       1\n",
       " 0  1  3//2  5//2    9//2\n",
       " 0  0   1    7//11  17//11"
      ]
     },
     "metadata": {},
     "output_type": "display_data"
    },
    {
     "data": {
      "text/plain": [
       "Any[]"
      ]
     },
     "metadata": {},
     "output_type": "display_data"
    },
    {
     "data": {
      "text/plain": [
       "3×5 Matrix{Real}:\n",
       " 1  2  -1     1       1\n",
       " 0  1  3//2  5//2    9//2\n",
       " 0  0   1    7//11  17//11"
      ]
     },
     "metadata": {},
     "output_type": "display_data"
    },
    {
     "ename": "LoadError",
     "evalue": "BoundsError: attempt to access 3×5 Matrix{Rational{Int64}} at index [4, 1:5]",
     "output_type": "error",
     "traceback": [
      "BoundsError: attempt to access 3×5 Matrix{Rational{Int64}} at index [4, 1:5]",
      "",
      "Stacktrace:",
      " [1] throw_boundserror(A::Matrix{Rational{Int64}}, I::Tuple{Int64, Base.Slice{Base.OneTo{Int64}}})",
      "   @ Base ./abstractarray.jl:691",
      " [2] checkbounds",
      "   @ ./abstractarray.jl:656 [inlined]",
      " [3] _getindex",
      "   @ ./multidimensional.jl:838 [inlined]",
      " [4] getindex",
      "   @ ./abstractarray.jl:1218 [inlined]",
      " [5] diagonalize(A::Matrix{Real})",
      "   @ Main ./In[3]:7",
      " [6] top-level scope",
      "   @ In[120]:1",
      " [7] eval",
      "   @ ./boot.jl:373 [inlined]",
      " [8] include_string(mapexpr::typeof(REPL.softscope), mod::Module, code::String, filename::String)",
      "   @ Base ./loading.jl:1196"
     ]
    }
   ],
   "source": [
    "diagonalize(BU)"
   ]
  },
  {
   "cell_type": "code",
   "execution_count": null,
   "id": "0485cc78-8d4d-4cc2-8a6a-a1c8fa906d97",
   "metadata": {},
   "outputs": [],
   "source": []
  }
 ],
 "metadata": {
  "kernelspec": {
   "display_name": "Julia 1.6.3",
   "language": "julia",
   "name": "julia-1.6"
  },
  "language_info": {
   "file_extension": ".jl",
   "mimetype": "application/julia",
   "name": "julia",
   "version": "1.7.0"
  }
 },
 "nbformat": 4,
 "nbformat_minor": 5
}
