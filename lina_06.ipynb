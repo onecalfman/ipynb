{
 "cells": [
  {
   "cell_type": "code",
   "execution_count": 1,
   "id": "c3f0f7b9",
   "metadata": {
    "execution": {
     "iopub.execute_input": "2021-12-12T15:46:41.374000+01:00",
     "iopub.status.busy": "2021-12-12T15:46:40.851000+01:00",
     "iopub.status.idle": "2021-12-12T15:46:41.843000+01:00",
     "shell.execute_reply": "2021-12-12T15:46:41.767000+01:00"
    }
   },
   "outputs": [],
   "source": [
    "using LinearAlgebra\n",
    "using AbstractAlgebra"
   ]
  },
  {
   "cell_type": "markdown",
   "id": "626a0b28",
   "metadata": {},
   "source": [
    "## 6.1 Lösungen von Gleichungssystemen"
   ]
  },
  {
   "cell_type": "code",
   "execution_count": 2,
   "id": "19065008",
   "metadata": {
    "execution": {
     "iopub.execute_input": "2021-12-12T15:46:41.843000+01:00",
     "iopub.status.busy": "2021-12-12T15:46:41.843000+01:00",
     "iopub.status.idle": "2021-12-12T15:46:43.436000+01:00",
     "shell.execute_reply": "2021-12-12T15:46:43.436000+01:00"
    }
   },
   "outputs": [
    {
     "data": {
      "text/plain": [
       "5×5 Matrix{Int64}:\n",
       "  2   -4   2  -2   2\n",
       "  1   -2  -1   1  -3\n",
       " -3    6   2  -3   7\n",
       "  1   -2   1   1   1\n",
       "  6  -12  -1   0  -8"
      ]
     },
     "execution_count": 2,
     "metadata": {},
     "output_type": "execute_result"
    }
   ],
   "source": [
    "A = [\n",
    "    2  -4  2 -2  2\n",
    "    1  -2 -1  1 -3\n",
    "    -3  6  2 -3  7\n",
    "    1  -2  1  1  1\n",
    "    6  -12 -1 0 -8\n",
    "]"
   ]
  },
  {
   "cell_type": "code",
   "execution_count": 3,
   "id": "697714c0",
   "metadata": {
    "execution": {
     "iopub.execute_input": "2021-12-12T15:46:43.436000+01:00",
     "iopub.status.busy": "2021-12-12T15:46:43.436000+01:00",
     "iopub.status.idle": "2021-12-12T15:46:43.448000+01:00",
     "shell.execute_reply": "2021-12-12T15:46:43.447000+01:00"
    }
   },
   "outputs": [],
   "source": [
    "b = [-2; 2; -4; -2; 5];\n",
    "c = [-4; -2; 6; -2; -12];"
   ]
  },
  {
   "cell_type": "markdown",
   "id": "58aed678",
   "metadata": {},
   "source": [
    "### a)\n",
    "Bestimmen Sie eine Basis von $\\operatorname{Ker} A = \\operatorname{Ker} \\mu_A$"
   ]
  },
  {
   "cell_type": "code",
   "execution_count": 4,
   "id": "5163f4e5-8a0a-4b85-ac43-d114083bd18a",
   "metadata": {
    "execution": {
     "iopub.execute_input": "2021-12-12T15:46:43.448000+01:00",
     "iopub.status.busy": "2021-12-12T15:46:43.448000+01:00",
     "iopub.status.idle": "2021-12-12T15:46:43.829000+01:00",
     "shell.execute_reply": "2021-12-12T15:46:43.829000+01:00"
    },
    "tags": []
   },
   "outputs": [
    {
     "data": {
      "text/plain": [
       "disp (generic function with 1 method)"
      ]
     },
     "execution_count": 4,
     "metadata": {},
     "output_type": "execute_result"
    }
   ],
   "source": [
    "function disp(A)\n",
    "    try\n",
    "        A = map(x -> (isinteger(x)) ? Int(x) : x, A)\n",
    "    catch\n",
    "        nothing\n",
    "    end\n",
    "    display(A)\n",
    "end"
   ]
  },
  {
   "cell_type": "code",
   "execution_count": 5,
   "id": "b6a901b9-4294-49c8-b429-a110cee88be1",
   "metadata": {
    "execution": {
     "iopub.execute_input": "2021-12-12T15:46:43.829000+01:00",
     "iopub.status.busy": "2021-12-12T15:46:43.829000+01:00",
     "iopub.status.idle": "2021-12-12T15:46:44.007000+01:00",
     "shell.execute_reply": "2021-12-12T15:46:44.007000+01:00"
    },
    "tags": []
   },
   "outputs": [
    {
     "data": {
      "text/plain": [
       "diagonalize (generic function with 1 method)"
      ]
     },
     "execution_count": 5,
     "metadata": {},
     "output_type": "execute_result"
    }
   ],
   "source": [
    "function diagonalize(A::Matrix{T}) where T<:Real\n",
    "    A = map(x -> Rational(x), A)\n",
    "    pivot = A[1]\n",
    "    for i ∈ 1:size(A)[2]\n",
    "        pivot = nothing\n",
    "        pivot_pos = 1\n",
    "        for (l, val) ∈ enumerate(A[i,:])\n",
    "            if val != 0\n",
    "                pivot = val\n",
    "                pivot_pos = l\n",
    "                break\n",
    "            end\n",
    "        end\n",
    "        if pivot == nothing\n",
    "            return map(x -> (isinteger(x)) ? Int(x) : x, A)\n",
    "        end\n",
    "        A[i,:] *= 1/pivot\n",
    "        disp(A)\n",
    "        \n",
    "        fac = []\n",
    "        for j ∈ i+1:size(A)[1] \n",
    "            push!(fac, - A[j,pivot_pos])\n",
    "            A[j,:] += - A[j,pivot_pos] .* A[i,:] \n",
    "        end\n",
    "        disp(fac)\n",
    "        disp(A)\n",
    "    end\n",
    "end"
   ]
  },
  {
   "cell_type": "code",
   "execution_count": 6,
   "id": "817c2161-1e75-4178-8602-efa8e0254fac",
   "metadata": {
    "execution": {
     "iopub.execute_input": "2021-12-12T15:46:44.007000+01:00",
     "iopub.status.busy": "2021-12-12T15:46:44.007000+01:00",
     "iopub.status.idle": "2021-12-12T15:46:46.699000+01:00",
     "shell.execute_reply": "2021-12-12T15:46:46.699000+01:00"
    },
    "tags": []
   },
   "outputs": [
    {
     "data": {
      "text/plain": [
       "5×7 Matrix{Int64}:\n",
       "  1   -2   1  -1   1  -1   -2\n",
       "  1   -2  -1   1  -3   2   -2\n",
       " -3    6   2  -3   7  -4    6\n",
       "  1   -2   1   1   1  -2   -2\n",
       "  6  -12  -1   0  -8   5  -12"
      ]
     },
     "metadata": {},
     "output_type": "display_data"
    },
    {
     "data": {
      "text/plain": [
       "4-element Vector{Int64}:\n",
       " -1\n",
       "  3\n",
       " -1\n",
       " -6"
      ]
     },
     "metadata": {},
     "output_type": "display_data"
    },
    {
     "data": {
      "text/plain": [
       "5×7 Matrix{Int64}:\n",
       " 1  -2   1  -1    1  -1  -2\n",
       " 0   0  -2   2   -4   3   0\n",
       " 0   0   5  -6   10  -7   0\n",
       " 0   0   0   2    0  -1   0\n",
       " 0   0  -7   6  -14  11   0"
      ]
     },
     "metadata": {},
     "output_type": "display_data"
    },
    {
     "data": {
      "text/plain": [
       "5×7 Matrix{Real}:\n",
       " 1  -2   1  -1    1   -1    -2\n",
       " 0   0   1  -1    2  -3//2   0\n",
       " 0   0   5  -6   10   -7     0\n",
       " 0   0   0   2    0   -1     0\n",
       " 0   0  -7   6  -14   11     0"
      ]
     },
     "metadata": {},
     "output_type": "display_data"
    },
    {
     "data": {
      "text/plain": [
       "3-element Vector{Int64}:\n",
       " -5\n",
       "  0\n",
       "  7"
      ]
     },
     "metadata": {},
     "output_type": "display_data"
    },
    {
     "data": {
      "text/plain": [
       "5×7 Matrix{Real}:\n",
       " 1  -2  1  -1  1   -1    -2\n",
       " 0   0  1  -1  2  -3//2   0\n",
       " 0   0  0  -1  0   1//2   0\n",
       " 0   0  0   2  0   -1     0\n",
       " 0   0  0  -1  0   1//2   0"
      ]
     },
     "metadata": {},
     "output_type": "display_data"
    },
    {
     "data": {
      "text/plain": [
       "5×7 Matrix{Real}:\n",
       " 1  -2  1  -1  1   -1    -2\n",
       " 0   0  1  -1  2  -3//2   0\n",
       " 0   0  0   1  0  -1//2   0\n",
       " 0   0  0   2  0   -1     0\n",
       " 0   0  0  -1  0   1//2   0"
      ]
     },
     "metadata": {},
     "output_type": "display_data"
    },
    {
     "data": {
      "text/plain": [
       "2-element Vector{Int64}:\n",
       " -2\n",
       "  1"
      ]
     },
     "metadata": {},
     "output_type": "display_data"
    },
    {
     "data": {
      "text/plain": [
       "5×7 Matrix{Real}:\n",
       " 1  -2  1  -1  1   -1    -2\n",
       " 0   0  1  -1  2  -3//2   0\n",
       " 0   0  0   1  0  -1//2   0\n",
       " 0   0  0   0  0    0     0\n",
       " 0   0  0   0  0    0     0"
      ]
     },
     "metadata": {},
     "output_type": "display_data"
    },
    {
     "data": {
      "text/plain": [
       "5×7 Matrix{Real}:\n",
       " 1  -2  1  -1  1   -1    -2\n",
       " 0   0  1  -1  2  -3//2   0\n",
       " 0   0  0   1  0  -1//2   0\n",
       " 0   0  0   0  0    0     0\n",
       " 0   0  0   0  0    0     0"
      ]
     },
     "execution_count": 6,
     "metadata": {},
     "output_type": "execute_result"
    }
   ],
   "source": [
    "diagonalize([A b c])"
   ]
  },
  {
   "cell_type": "code",
   "execution_count": 7,
   "id": "3aa94e51",
   "metadata": {
    "execution": {
     "iopub.execute_input": "2021-12-12T15:46:46.699000+01:00",
     "iopub.status.busy": "2021-12-12T15:46:46.699000+01:00",
     "iopub.status.idle": "2021-12-12T15:46:46.701000+01:00",
     "shell.execute_reply": "2021-12-12T15:46:46.701000+01:00"
    },
    "tags": []
   },
   "outputs": [
    {
     "data": {
      "text/plain": [
       "5×4 Matrix{Int64}:\n",
       "  2  -1   1  -1\n",
       "  0   0   2   1\n",
       "  3   4  -1   0\n",
       " -1   4   1   3\n",
       "  1   8   1   4"
      ]
     },
     "execution_count": 7,
     "metadata": {},
     "output_type": "execute_result"
    }
   ],
   "source": [
    "U = [\n",
    "    2 -1  1 -1\n",
    "    0  0  2  1 \n",
    "    3  4 -1  0\n",
    "   -1  4  1  3\n",
    "    1  8  1  4\n",
    "]"
   ]
  },
  {
   "cell_type": "code",
   "execution_count": 8,
   "id": "52010ad9-c4ad-481e-b060-37d8bf461ccf",
   "metadata": {
    "execution": {
     "iopub.execute_input": "2021-12-12T15:46:46.702000+01:00",
     "iopub.status.busy": "2021-12-12T15:46:46.701000+01:00",
     "iopub.status.idle": "2021-12-12T15:46:46.704000+01:00",
     "shell.execute_reply": "2021-12-12T15:46:46.704000+01:00"
    },
    "tags": []
   },
   "outputs": [
    {
     "data": {
      "text/plain": [
       "5×3 Matrix{Int64}:\n",
       "  3   1   0\n",
       " -3   3   6\n",
       "  5   1  -1\n",
       "  3  -5  -9\n",
       " -1   3   5"
      ]
     },
     "execution_count": 8,
     "metadata": {},
     "output_type": "execute_result"
    }
   ],
   "source": [
    "V = [\n",
    "     3  1  0\n",
    "    -3  3  6\n",
    "     5  1 -1\n",
    "     3 -5 -9\n",
    "    -1  3  5\n",
    "]"
   ]
  },
  {
   "cell_type": "code",
   "execution_count": 9,
   "id": "f422825b-ed41-479a-8a54-d4d3c6e0a5b0",
   "metadata": {
    "execution": {
     "iopub.execute_input": "2021-12-12T15:46:46.704000+01:00",
     "iopub.status.busy": "2021-12-12T15:46:46.704000+01:00",
     "iopub.status.idle": "2021-12-12T15:46:47.451000+01:00",
     "shell.execute_reply": "2021-12-12T15:46:47.451000+01:00"
    },
    "tags": []
   },
   "outputs": [
    {
     "data": {
      "text/plain": [
       "4×5 Matrix{Int64}:\n",
       "  1  2  -1   1  1\n",
       " -1  0   4   4  8\n",
       "  2  0   3  -1  1\n",
       " -1  1   0   3  4"
      ]
     },
     "metadata": {},
     "output_type": "display_data"
    },
    {
     "data": {
      "text/plain": [
       "3-element Vector{Int64}:\n",
       "  1\n",
       " -2\n",
       "  1"
      ]
     },
     "metadata": {},
     "output_type": "display_data"
    },
    {
     "data": {
      "text/plain": [
       "4×5 Matrix{Int64}:\n",
       " 1   2  -1   1   1\n",
       " 0   2   3   5   9\n",
       " 0  -4   5  -3  -1\n",
       " 0   3  -1   4   5"
      ]
     },
     "metadata": {},
     "output_type": "display_data"
    },
    {
     "data": {
      "text/plain": [
       "4×5 Matrix{Real}:\n",
       " 1   2  -1     1     1\n",
       " 0   1  3//2  5//2  9//2\n",
       " 0  -4   5    -3    -1\n",
       " 0   3  -1     4     5"
      ]
     },
     "metadata": {},
     "output_type": "display_data"
    },
    {
     "data": {
      "text/plain": [
       "2-element Vector{Int64}:\n",
       "  4\n",
       " -3"
      ]
     },
     "metadata": {},
     "output_type": "display_data"
    },
    {
     "data": {
      "text/plain": [
       "4×5 Matrix{Real}:\n",
       " 1  2    -1      1       1\n",
       " 0  1    3//2   5//2    9//2\n",
       " 0  0    11      7      17\n",
       " 0  0  -11//2  -7//2  -17//2"
      ]
     },
     "metadata": {},
     "output_type": "display_data"
    },
    {
     "data": {
      "text/plain": [
       "4×5 Matrix{Real}:\n",
       " 1  2    -1      1        1\n",
       " 0  1    3//2   5//2     9//2\n",
       " 0  0     1     7//11   17//11\n",
       " 0  0  -11//2  -7//2   -17//2"
      ]
     },
     "metadata": {},
     "output_type": "display_data"
    },
    {
     "data": {
      "text/plain": [
       "1-element Vector{Rational{Int64}}:\n",
       " 11//2"
      ]
     },
     "metadata": {},
     "output_type": "display_data"
    },
    {
     "data": {
      "text/plain": [
       "4×5 Matrix{Real}:\n",
       " 1  2  -1     1       1\n",
       " 0  1  3//2  5//2    9//2\n",
       " 0  0   1    7//11  17//11\n",
       " 0  0   0     0       0"
      ]
     },
     "metadata": {},
     "output_type": "display_data"
    },
    {
     "data": {
      "text/plain": [
       "4×5 Matrix{Real}:\n",
       " 1  2  -1     1       1\n",
       " 0  1  3//2  5//2    9//2\n",
       " 0  0   1    7//11  17//11\n",
       " 0  0   0     0       0"
      ]
     },
     "execution_count": 9,
     "metadata": {},
     "output_type": "execute_result"
    }
   ],
   "source": [
    "Ut = transpose(U)\n",
    "Ut[1,:], Ut[3,:] = Ut[3,:], Ut[1,:] \n",
    "diagU = diagonalize(Matrix(Ut))"
   ]
  },
  {
   "cell_type": "code",
   "execution_count": 10,
   "id": "cbcc7c9f-ce3b-48a3-8cea-9c2df61fd33e",
   "metadata": {
    "execution": {
     "iopub.execute_input": "2021-12-12T15:46:47.451000+01:00",
     "iopub.status.busy": "2021-12-12T15:46:47.451000+01:00",
     "iopub.status.idle": "2021-12-12T15:46:47.462000+01:00",
     "shell.execute_reply": "2021-12-12T15:46:47.462000+01:00"
    },
    "tags": []
   },
   "outputs": [
    {
     "data": {
      "text/plain": [
       "3×5 Matrix{Int64}:\n",
       " 1   3   1  -5   3\n",
       " 3  -3   5   3  -1\n",
       " 0   6  -1  -9   5"
      ]
     },
     "metadata": {},
     "output_type": "display_data"
    },
    {
     "data": {
      "text/plain": [
       "2-element Vector{Int64}:\n",
       " -3\n",
       "  0"
      ]
     },
     "metadata": {},
     "output_type": "display_data"
    },
    {
     "data": {
      "text/plain": [
       "3×5 Matrix{Int64}:\n",
       " 1    3   1  -5    3\n",
       " 0  -12   2  18  -10\n",
       " 0    6  -1  -9    5"
      ]
     },
     "metadata": {},
     "output_type": "display_data"
    },
    {
     "data": {
      "text/plain": [
       "3×5 Matrix{Real}:\n",
       " 1  3    1     -5     3\n",
       " 0  1  -1//6  -3//2  5//6\n",
       " 0  6   -1     -9     5"
      ]
     },
     "metadata": {},
     "output_type": "display_data"
    },
    {
     "data": {
      "text/plain": [
       "1-element Vector{Int64}:\n",
       " -6"
      ]
     },
     "metadata": {},
     "output_type": "display_data"
    },
    {
     "data": {
      "text/plain": [
       "3×5 Matrix{Real}:\n",
       " 1  3    1     -5     3\n",
       " 0  1  -1//6  -3//2  5//6\n",
       " 0  0    0      0     0"
      ]
     },
     "metadata": {},
     "output_type": "display_data"
    },
    {
     "data": {
      "text/plain": [
       "3×5 Matrix{Real}:\n",
       " 1  3    1     -5     3\n",
       " 0  1  -1//6  -3//2  5//6\n",
       " 0  0    0      0     0"
      ]
     },
     "execution_count": 10,
     "metadata": {},
     "output_type": "execute_result"
    }
   ],
   "source": [
    "Vt = transpose(V)\n",
    "Vt[1,:], Vt[2,:] = Vt[2,:], Vt[1,:] \n",
    "diagV = diagonalize(Matrix(Vt))"
   ]
  },
  {
   "cell_type": "code",
   "execution_count": 11,
   "id": "734f6eb0-51f9-4801-aaf0-dd816b932273",
   "metadata": {
    "execution": {
     "iopub.execute_input": "2021-12-12T15:46:47.463000+01:00",
     "iopub.status.busy": "2021-12-12T15:46:47.462000+01:00",
     "iopub.status.idle": "2021-12-12T15:46:47.464000+01:00",
     "shell.execute_reply": "2021-12-12T15:46:47.464000+01:00"
    },
    "tags": []
   },
   "outputs": [
    {
     "data": {
      "text/plain": [
       "4×5 Matrix{Real}:\n",
       " 1  2  -1     1       1\n",
       " 0  1  3//2  5//2    9//2\n",
       " 0  0   1    7//11  17//11\n",
       " 0  0   0     0       0"
      ]
     },
     "execution_count": 11,
     "metadata": {},
     "output_type": "execute_result"
    }
   ],
   "source": [
    "diagU"
   ]
  },
  {
   "cell_type": "code",
   "execution_count": 12,
   "id": "74536914-7cf4-4bcc-8973-4965ce1737d1",
   "metadata": {
    "execution": {
     "iopub.execute_input": "2021-12-12T15:46:47.465000+01:00",
     "iopub.status.busy": "2021-12-12T15:46:47.465000+01:00",
     "iopub.status.idle": "2021-12-12T15:46:47.715000+01:00",
     "shell.execute_reply": "2021-12-12T15:46:47.715000+01:00"
    },
    "tags": []
   },
   "outputs": [
    {
     "data": {
      "text/plain": [
       "5×5 Matrix{Real}:\n",
       " 1  2   -1      1       1\n",
       " 0  1   3//2   5//2    9//2\n",
       " 0  0    1     7//11  17//11\n",
       " 1  3    1     -5       3\n",
       " 0  1  -1//6  -3//2    5//6"
      ]
     },
     "execution_count": 12,
     "metadata": {},
     "output_type": "execute_result"
    }
   ],
   "source": [
    "a = [transpose(diagU) transpose(diagV)][:,[1,2,3,5,6]] |> transpose |> Matrix"
   ]
  },
  {
   "cell_type": "code",
   "execution_count": 13,
   "id": "eb62b0c3-b300-4e0f-bfe3-c156f5b91fac",
   "metadata": {
    "execution": {
     "iopub.execute_input": "2021-12-12T15:46:47.715000+01:00",
     "iopub.status.busy": "2021-12-12T15:46:47.715000+01:00",
     "iopub.status.idle": "2021-12-12T15:46:48.068000+01:00",
     "shell.execute_reply": "2021-12-12T15:46:48.068000+01:00"
    },
    "tags": []
   },
   "outputs": [
    {
     "data": {
      "text/plain": [
       "5×5 Matrix{Real}:\n",
       " 1  2   -1      1       1\n",
       " 0  1   3//2   5//2    9//2\n",
       " 0  0    1     7//11  17//11\n",
       " 1  3    1     -5       3\n",
       " 0  1  -1//6  -3//2    5//6"
      ]
     },
     "metadata": {},
     "output_type": "display_data"
    },
    {
     "data": {
      "text/plain": [
       "4-element Vector{Int64}:\n",
       "  0\n",
       "  0\n",
       " -1\n",
       "  0"
      ]
     },
     "metadata": {},
     "output_type": "display_data"
    },
    {
     "data": {
      "text/plain": [
       "5×5 Matrix{Real}:\n",
       " 1  2   -1      1       1\n",
       " 0  1   3//2   5//2    9//2\n",
       " 0  0    1     7//11  17//11\n",
       " 0  1    2     -6       2\n",
       " 0  1  -1//6  -3//2    5//6"
      ]
     },
     "metadata": {},
     "output_type": "display_data"
    },
    {
     "data": {
      "text/plain": [
       "5×5 Matrix{Real}:\n",
       " 1  2   -1      1       1\n",
       " 0  1   3//2   5//2    9//2\n",
       " 0  0    1     7//11  17//11\n",
       " 0  1    2     -6       2\n",
       " 0  1  -1//6  -3//2    5//6"
      ]
     },
     "metadata": {},
     "output_type": "display_data"
    },
    {
     "data": {
      "text/plain": [
       "3-element Vector{Int64}:\n",
       "  0\n",
       " -1\n",
       " -1"
      ]
     },
     "metadata": {},
     "output_type": "display_data"
    },
    {
     "data": {
      "text/plain": [
       "5×5 Matrix{Real}:\n",
       " 1  2   -1       1        1\n",
       " 0  1   3//2    5//2     9//2\n",
       " 0  0    1      7//11   17//11\n",
       " 0  0   1//2  -17//2    -5//2\n",
       " 0  0  -5//3    -4     -11//3"
      ]
     },
     "metadata": {},
     "output_type": "display_data"
    },
    {
     "data": {
      "text/plain": [
       "5×5 Matrix{Real}:\n",
       " 1  2   -1       1        1\n",
       " 0  1   3//2    5//2     9//2\n",
       " 0  0    1      7//11   17//11\n",
       " 0  0   1//2  -17//2    -5//2\n",
       " 0  0  -5//3    -4     -11//3"
      ]
     },
     "metadata": {},
     "output_type": "display_data"
    },
    {
     "data": {
      "text/plain": [
       "2-element Vector{Rational{Int64}}:\n",
       " -1//2\n",
       "  5//3"
      ]
     },
     "metadata": {},
     "output_type": "display_data"
    },
    {
     "data": {
      "text/plain": [
       "5×5 Matrix{Real}:\n",
       " 1  2  -1       1        1\n",
       " 0  1  3//2    5//2     9//2\n",
       " 0  0   1      7//11   17//11\n",
       " 0  0   0    -97//11  -36//11\n",
       " 0  0   0    -97//33  -12//11"
      ]
     },
     "metadata": {},
     "output_type": "display_data"
    },
    {
     "data": {
      "text/plain": [
       "5×5 Matrix{Real}:\n",
       " 1  2  -1       1        1\n",
       " 0  1  3//2    5//2     9//2\n",
       " 0  0   1      7//11   17//11\n",
       " 0  0   0       1      36//97\n",
       " 0  0   0    -97//33  -12//11"
      ]
     },
     "metadata": {},
     "output_type": "display_data"
    },
    {
     "data": {
      "text/plain": [
       "1-element Vector{Rational{Int64}}:\n",
       " 97//33"
      ]
     },
     "metadata": {},
     "output_type": "display_data"
    },
    {
     "data": {
      "text/plain": [
       "5×5 Matrix{Real}:\n",
       " 1  2  -1     1       1\n",
       " 0  1  3//2  5//2    9//2\n",
       " 0  0   1    7//11  17//11\n",
       " 0  0   0     1     36//97\n",
       " 0  0   0     0       0"
      ]
     },
     "metadata": {},
     "output_type": "display_data"
    },
    {
     "data": {
      "text/plain": [
       "5×5 Matrix{Real}:\n",
       " 1  2  -1     1       1\n",
       " 0  1  3//2  5//2    9//2\n",
       " 0  0   1    7//11  17//11\n",
       " 0  0   0     1     36//97\n",
       " 0  0   0     0       0"
      ]
     },
     "execution_count": 13,
     "metadata": {},
     "output_type": "execute_result"
    }
   ],
   "source": [
    "diagonalize(a)"
   ]
  },
  {
   "cell_type": "code",
   "execution_count": null,
   "id": "43166290-ed4b-4056-a9da-8e8db69bec67",
   "metadata": {
    "tags": []
   },
   "outputs": [],
   "source": []
  },
  {
   "cell_type": "markdown",
   "id": "b425feec",
   "metadata": {},
   "source": [
    "### b)\n",
    "Bestimmen Sie die Lösungsmenge $\\operatorname{Sol}(A, \\vec{b})$  des Gleichungssystems $A \\vec{x}=\\vec{b}$. Bestimmen Sie die Lösungsmenge $\\operatorname{Sol}(A, \\vec{b})$ des Gleichungssystems $A \\vec{x}=\\vec{b}$.\n"
   ]
  },
  {
   "cell_type": "code",
   "execution_count": 14,
   "id": "34bbda08",
   "metadata": {
    "execution": {
     "iopub.execute_input": "2021-12-12T15:46:48.068000+01:00",
     "iopub.status.busy": "2021-12-12T15:46:48.068000+01:00",
     "iopub.status.idle": "2021-12-12T15:46:49.118000+01:00",
     "shell.execute_reply": "2021-12-12T15:46:49.118000+01:00"
    }
   },
   "outputs": [
    {
     "ename": "LoadError",
     "evalue": "SingularException(2)",
     "output_type": "error",
     "traceback": [
      "SingularException(2)",
      "",
      "Stacktrace:",
      " [1] checknonsingular",
      "   @ /usr/share/julia/stdlib/v1.7/LinearAlgebra/src/factorization.jl:19 [inlined]",
      " [2] checknonsingular",
      "   @ /usr/share/julia/stdlib/v1.7/LinearAlgebra/src/factorization.jl:21 [inlined]",
      " [3] #lu!#146",
      "   @ /usr/share/julia/stdlib/v1.7/LinearAlgebra/src/lu.jl:82 [inlined]",
      " [4] #lu#153",
      "   @ /usr/share/julia/stdlib/v1.7/LinearAlgebra/src/lu.jl:279 [inlined]",
      " [5] lu (repeats 2 times)",
      "   @ /usr/share/julia/stdlib/v1.7/LinearAlgebra/src/lu.jl:278 [inlined]",
      " [6] top-level scope",
      "   @ In[14]:1",
      " [7] eval",
      "   @ ./boot.jl:373 [inlined]",
      " [8] include_string(mapexpr::typeof(REPL.softscope), mod::Module, code::String, filename::String)",
      "   @ Base ./loading.jl:1196"
     ]
    }
   ],
   "source": [
    "lu(A)"
   ]
  },
  {
   "cell_type": "code",
   "execution_count": 15,
   "id": "27943b09",
   "metadata": {
    "execution": {
     "iopub.execute_input": "2021-12-12T15:46:49.118000+01:00",
     "iopub.status.busy": "2021-12-12T15:46:49.118000+01:00",
     "iopub.status.idle": "2021-12-12T15:46:49.121000+01:00",
     "shell.execute_reply": "2021-12-12T15:46:49.121000+01:00"
    }
   },
   "outputs": [
    {
     "data": {
      "text/plain": [
       "5×5 Matrix{Int64}:\n",
       "  2   -4   2  -2   2\n",
       "  1   -2  -1   1  -3\n",
       " -3    6   2  -3   7\n",
       "  1   -2   1   1   1\n",
       "  6  -12  -1   0  -8"
      ]
     },
     "execution_count": 15,
     "metadata": {},
     "output_type": "execute_result"
    }
   ],
   "source": [
    "A = [\n",
    "    2 -4  2 -2 2\n",
    "    1 -2 -1 1 -3\n",
    "    -3 6  2 -3 7\n",
    "    1 -2  1 1 1\n",
    "    6 -12 -1 0 -8\n",
    "]\n"
   ]
  },
  {
   "cell_type": "code",
   "execution_count": 16,
   "id": "43ad7ed8",
   "metadata": {
    "execution": {
     "iopub.execute_input": "2021-12-12T15:46:49.122000+01:00",
     "iopub.status.busy": "2021-12-12T15:46:49.122000+01:00",
     "iopub.status.idle": "2021-12-12T15:46:49.129000+01:00",
     "shell.execute_reply": "2021-12-12T15:46:49.129000+01:00"
    }
   },
   "outputs": [
    {
     "ename": "LoadError",
     "evalue": "SingularException(2)",
     "output_type": "error",
     "traceback": [
      "SingularException(2)",
      "",
      "Stacktrace:",
      " [1] checknonsingular",
      "   @ /usr/share/julia/stdlib/v1.7/LinearAlgebra/src/factorization.jl:19 [inlined]",
      " [2] checknonsingular",
      "   @ /usr/share/julia/stdlib/v1.7/LinearAlgebra/src/factorization.jl:21 [inlined]",
      " [3] #lu!#146",
      "   @ /usr/share/julia/stdlib/v1.7/LinearAlgebra/src/lu.jl:82 [inlined]",
      " [4] #lu#153",
      "   @ /usr/share/julia/stdlib/v1.7/LinearAlgebra/src/lu.jl:279 [inlined]",
      " [5] lu (repeats 2 times)",
      "   @ /usr/share/julia/stdlib/v1.7/LinearAlgebra/src/lu.jl:278 [inlined]",
      " [6] top-level scope",
      "   @ In[16]:1",
      " [7] eval",
      "   @ ./boot.jl:373 [inlined]",
      " [8] include_string(mapexpr::typeof(REPL.softscope), mod::Module, code::String, filename::String)",
      "   @ Base ./loading.jl:1196"
     ]
    }
   ],
   "source": [
    "lu(A)"
   ]
  },
  {
   "cell_type": "code",
   "execution_count": 17,
   "id": "8944d18a",
   "metadata": {
    "execution": {
     "iopub.execute_input": "2021-12-12T15:46:49.129000+01:00",
     "iopub.status.busy": "2021-12-12T15:46:49.129000+01:00",
     "iopub.status.idle": "2021-12-12T15:46:49.527000+01:00",
     "shell.execute_reply": "2021-12-12T15:46:49.526000+01:00"
    }
   },
   "outputs": [
    {
     "data": {
      "text/plain": [
       "3"
      ]
     },
     "execution_count": 17,
     "metadata": {},
     "output_type": "execute_result"
    }
   ],
   "source": [
    "rank(A)"
   ]
  },
  {
   "cell_type": "code",
   "execution_count": 18,
   "id": "0b46b9e3",
   "metadata": {
    "execution": {
     "iopub.execute_input": "2021-12-12T15:46:49.527000+01:00",
     "iopub.status.busy": "2021-12-12T15:46:49.527000+01:00",
     "iopub.status.idle": "2021-12-12T15:46:50.786000+01:00",
     "shell.execute_reply": "2021-12-12T15:46:50.786000+01:00"
    }
   },
   "outputs": [
    {
     "ename": "LoadError",
     "evalue": "SingularException(2)",
     "output_type": "error",
     "traceback": [
      "SingularException(2)",
      "",
      "Stacktrace:",
      " [1] checknonsingular",
      "   @ /usr/share/julia/stdlib/v1.7/LinearAlgebra/src/factorization.jl:19 [inlined]",
      " [2] checknonsingular",
      "   @ /usr/share/julia/stdlib/v1.7/LinearAlgebra/src/factorization.jl:21 [inlined]",
      " [3] #lu!#146",
      "   @ /usr/share/julia/stdlib/v1.7/LinearAlgebra/src/lu.jl:82 [inlined]",
      " [4] #lu#153",
      "   @ /usr/share/julia/stdlib/v1.7/LinearAlgebra/src/lu.jl:279 [inlined]",
      " [5] lu (repeats 2 times)",
      "   @ /usr/share/julia/stdlib/v1.7/LinearAlgebra/src/lu.jl:278 [inlined]",
      " [6] \\(A::Matrix{Int64}, B::Vector{Int64})",
      "   @ LinearAlgebra /usr/share/julia/stdlib/v1.7/LinearAlgebra/src/generic.jl:1142",
      " [7] top-level scope",
      "   @ In[18]:1",
      " [8] eval",
      "   @ ./boot.jl:373 [inlined]",
      " [9] include_string(mapexpr::typeof(REPL.softscope), mod::Module, code::String, filename::String)",
      "   @ Base ./loading.jl:1196"
     ]
    }
   ],
   "source": [
    "A\\b"
   ]
  },
  {
   "cell_type": "code",
   "execution_count": null,
   "id": "16e99710",
   "metadata": {},
   "outputs": [],
   "source": []
  }
 ],
 "metadata": {
  "kernelspec": {
   "display_name": "Julia 1.6.3",
   "language": "julia",
   "name": "julia-1.6"
  },
  "language_info": {
   "file_extension": ".jl",
   "mimetype": "application/julia",
   "name": "julia",
   "version": "1.7.0"
  }
 },
 "nbformat": 4,
 "nbformat_minor": 5
}
